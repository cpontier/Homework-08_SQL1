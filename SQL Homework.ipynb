{
 "cells": [
  {
   "cell_type": "code",
   "execution_count": null,
   "metadata": {},
   "outputs": [],
   "source": [
    "#1a. Display the first and last names of all actors \n",
    "#from the table `actor`. \n",
    "use sakila;\n",
    "\n",
    "SELECT first_name, last_name FROM actor;"
   ]
  },
  {
   "cell_type": "code",
   "execution_count": null,
   "metadata": {},
   "outputs": [],
   "source": [
    "#1b. Display the first and last name of each actor in a single column \n",
    "#in upper case letters. Name the column `Actor Name`.\n",
    "\n",
    "SELECT CONCAT(`first_name`, ' ', `last_name`) AS `Actor Name` FROM actor;"
   ]
  },
  {
   "cell_type": "code",
   "execution_count": null,
   "metadata": {},
   "outputs": [],
   "source": [
    "#2a. You need to find the ID number, first name, and last name of an actor,\n",
    "#of whom you know only the first name, \"Joe.\" \n",
    "#What is one query would you use to obtain this information\n",
    "\n",
    "SELECT actor_id, first_name, last_name FROM actor WHERE first_name = 'Joe' ;"
   ]
  },
  {
   "cell_type": "code",
   "execution_count": null,
   "metadata": {},
   "outputs": [],
   "source": [
    "#2b. Find all actors whose last name contain the letters `GEN`:\n",
    "\n",
    "SELECT * FROM actor WHERE last_name LIKE '%gen%';"
   ]
  },
  {
   "cell_type": "code",
   "execution_count": null,
   "metadata": {},
   "outputs": [],
   "source": [
    "#2c. Find all actors whose last names contain the letters `LI`. \n",
    "#This time, order the rows by last name and first name, in that order:\n",
    "\n",
    "SELECT * FROM actor WHERE last_name LIKE '%li%' ORDER BY last_name, first_name;"
   ]
  },
  {
   "cell_type": "code",
   "execution_count": null,
   "metadata": {},
   "outputs": [],
   "source": [
    "#2d. Using `IN`, display the `country_id` and `country` columns of the \n",
    "#following countries: Afghanistan, Bangladesh, and China:\n",
    "\n",
    "SELECT country_id, country FROM country WHERE country IN ('Afghanistan', 'Bangladesh', 'China');"
   ]
  },
  {
   "cell_type": "code",
   "execution_count": null,
   "metadata": {},
   "outputs": [],
   "source": [
    "#3a. Add a `middle_name` column to the table `actor`. \n",
    "#Position it between `first_name` and `last_name`. \n",
    "#Hint: you will need to specify the data type.\n",
    "\n",
    "ALTER TABLE actor ADD middle_name VARCHAR(255) AFTER first_name;"
   ]
  },
  {
   "cell_type": "code",
   "execution_count": null,
   "metadata": {},
   "outputs": [],
   "source": [
    "#3b. You realize that some of these actors have tremendously long \n",
    "#last names. Change the data type of the `middle_name` column to `blobs`.\n",
    "\n",
    "ALTER TABLE actor MODIFY last_name BLOB;"
   ]
  },
  {
   "cell_type": "code",
   "execution_count": null,
   "metadata": {},
   "outputs": [],
   "source": [
    "#3c. Now delete the `middle_name` column.\n",
    "\n",
    "ALTER TABLE actor DROP COLUMN middle_name;"
   ]
  },
  {
   "cell_type": "code",
   "execution_count": null,
   "metadata": {},
   "outputs": [],
   "source": [
    "#4a. List the last names of actors, \n",
    "#as well as how many actors have that last name.\n",
    "\n",
    "SELECT last_name, COUNT(*) FROM actor GROUP BY last_name;"
   ]
  },
  {
   "cell_type": "code",
   "execution_count": null,
   "metadata": {},
   "outputs": [],
   "source": [
    "#4b. List last names of actors and the number of actors who have that \n",
    "#last name, but only for names that are shared by at least two actors\n",
    "\n",
    "SELECT last_name, COUNT(*) FROM actor GROUP BY last_name HAVING COUNT(*) > 2;"
   ]
  },
  {
   "cell_type": "code",
   "execution_count": null,
   "metadata": {},
   "outputs": [],
   "source": [
    "#4c. Oh, no! The actor `HARPO WILLIAMS` was accidentally entered \n",
    "#in the `actor` table as `GROUCHO WILLIAMS`, the name of \n",
    "#Harpo's second cousin's husband's yoga teacher. \n",
    "#Write a query to fix the record.\n",
    "\n",
    "SELECT *\n",
    "FROM actor\n",
    "WHERE last_name = 'Williams' AND first_name = 'Groucho';\n",
    "\n",
    "\n",
    "UPDATE actor\n",
    "SET first_name = 'HARPO'\n",
    "WHERE last_name = 'Williams' AND first_name = 'Groucho';"
   ]
  },
  {
   "cell_type": "code",
   "execution_count": null,
   "metadata": {},
   "outputs": [],
   "source": []
  },
  {
   "cell_type": "code",
   "execution_count": null,
   "metadata": {},
   "outputs": [],
   "source": []
  }
 ],
 "metadata": {
  "kernelspec": {
   "display_name": "Python [PythonData]",
   "language": "python",
   "name": "pythondata"
  },
  "language_info": {
   "codemirror_mode": {
    "name": "ipython",
    "version": 3
   },
   "file_extension": ".py",
   "mimetype": "text/x-python",
   "name": "python",
   "nbconvert_exporter": "python",
   "pygments_lexer": "ipython3",
   "version": "3.6.4"
  }
 },
 "nbformat": 4,
 "nbformat_minor": 2
}
